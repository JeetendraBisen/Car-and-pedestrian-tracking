{
 "cells": [
  {
   "cell_type": "code",
   "execution_count": 1,
   "id": "2bb37d7d",
   "metadata": {},
   "outputs": [],
   "source": [
    "import cv2"
   ]
  },
  {
   "cell_type": "code",
   "execution_count": 2,
   "id": "fd257d31",
   "metadata": {},
   "outputs": [],
   "source": [
    "#our car\n",
    "img_file = 'download (1).jpg'"
   ]
  },
  {
   "cell_type": "code",
   "execution_count": 3,
   "id": "c2908bb8",
   "metadata": {},
   "outputs": [],
   "source": [
    "# our pretrained car classifier\n",
    "car_tracker_file = cv2.CascadeClassifier('cars.xml')\n",
    "pedestrian_tracker_file = cv2.CascadeClassifier('haarcascade_fullbody.xml')"
   ]
  },
  {
   "cell_type": "code",
   "execution_count": 4,
   "id": "af9d8593",
   "metadata": {},
   "outputs": [],
   "source": [
    "#craete opencv image\n",
    "img = cv2.imread(img_file)\n",
    "video = cv2.VideoCapture('carvi.mp4')\n",
    "key = cv2.waitKey(1)"
   ]
  },
  {
   "cell_type": "code",
   "execution_count": 5,
   "id": "417db753",
   "metadata": {},
   "outputs": [],
   "source": [
    "while True:\n",
    "    #read the current frame\n",
    "    read_successful, frame = video.read()\n",
    "    \n",
    "    #safe coding\n",
    "    if read_successful:\n",
    "        greyscale_frame = cv2.cvtColor(frame, cv2.COLOR_BGR2GRAY)\n",
    "    else:\n",
    "        break\n",
    "    # detecting cars and pedestrian\n",
    "    cars = car_tracker_file.detectMultiScale(greyscale_frame) \n",
    "    pedestrians = pedestrian_tracker_file.detectMultiScale(greyscale_frame)\n",
    "    \n",
    "    #draw rectangle around cars\n",
    "    for (x, y, w, h) in cars:\n",
    "        cv2.rectangle(frame,(x, y), (x+w, y+h), (0,255,0))  \n",
    "        \n",
    "    #draw rectangle around pedestrains\n",
    "    for (x, y, w, h) in pedestrians:\n",
    "        cv2.rectangle(frame,(x, y), (x+w, y+h), (0,0,255))  \n",
    "        \n",
    "        \n",
    "    cv2.imshow('Clever Programmer Cars Detector', frame)\n",
    "    \n",
    "    \n",
    "     # Breaking gracefully\n",
    "    if cv2.waitKey(1) & 0XFF == ord('q'):\n",
    "        break\n",
    "\n",
    "#release the video capture object\n",
    "video.release()\n",
    "cv2.destroyAllWindows()\n",
    "        "
   ]
  },
  {
   "cell_type": "code",
   "execution_count": null,
   "id": "703cdcc3",
   "metadata": {},
   "outputs": [],
   "source": []
  }
 ],
 "metadata": {
  "kernelspec": {
   "display_name": "Python 3 (ipykernel)",
   "language": "python",
   "name": "python3"
  },
  "language_info": {
   "codemirror_mode": {
    "name": "ipython",
    "version": 3
   },
   "file_extension": ".py",
   "mimetype": "text/x-python",
   "name": "python",
   "nbconvert_exporter": "python",
   "pygments_lexer": "ipython3",
   "version": "3.9.6"
  }
 },
 "nbformat": 4,
 "nbformat_minor": 5
}
